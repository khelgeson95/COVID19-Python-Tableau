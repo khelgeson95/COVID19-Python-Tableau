{
 "cells": [
  {
   "cell_type": "markdown",
   "id": "5725b3c3",
   "metadata": {},
   "source": [
    "# Contents\n",
    "### 01. Importing libraries and data\n",
    "### 02. Data cleaning - COVID Deaths\n",
    "### 03. Data prep for regression analysis - Pneumonia vs. COVID\n",
    "### 04. Regression analysis - Pneumonia vs. COVID"
   ]
  },
  {
   "cell_type": "markdown",
   "id": "c310dd77",
   "metadata": {},
   "source": [
    "# 01. Importing libraries and data"
   ]
  },
  {
   "cell_type": "code",
   "execution_count": 2,
   "id": "c3a64f81",
   "metadata": {},
   "outputs": [],
   "source": [
    "import pandas as pd\n",
    "import numpy as np\n",
    "import seaborn as sns\n",
    "import matplotlib\n",
    "import matplotlib.pyplot as plt\n",
    "import os\n",
    "import sklearn\n",
    "from sklearn.model_selection import train_test_split \n",
    "from sklearn.linear_model import LinearRegression\n",
    "from sklearn.metrics import mean_squared_error, r2_score"
   ]
  },
  {
   "cell_type": "code",
   "execution_count": 3,
   "id": "9b25f18f",
   "metadata": {},
   "outputs": [],
   "source": [
    "# This option ensures that the graphs you create are displayed within the notebook without the need to \"call\" them specifically.\n",
    "%matplotlib inline"
   ]
  },
  {
   "cell_type": "code",
   "execution_count": 4,
   "id": "ef77b44b",
   "metadata": {},
   "outputs": [],
   "source": [
    "# create path to import data\n",
    "path = r'/Users/kirstinhelgeson/Desktop/Data Analytics Course/07-2023 Achievement 6 Project'"
   ]
  },
  {
   "cell_type": "code",
   "execution_count": 5,
   "id": "58fb8ae5",
   "metadata": {},
   "outputs": [],
   "source": [
    "# import COVID deaths data\n",
    "df_covid_deaths = pd.read_csv(os.path.join(path,'02 Data','Prepared Data','COVID_deaths_wrangled_cleaned.csv'), index_col = False)"
   ]
  },
  {
   "cell_type": "code",
   "execution_count": 6,
   "id": "08fe86d7",
   "metadata": {},
   "outputs": [],
   "source": [
    "# import contributing conditions data\n",
    "df_conditions = pd.read_csv(os.path.join(path,'02 Data','Prepared Data','Contributing_conditions_wrangled_cleaned.csv'), index_col = False)"
   ]
  },
  {
   "cell_type": "markdown",
   "id": "440de349",
   "metadata": {},
   "source": [
    "# 02. Data cleaning - COVID Deaths"
   ]
  },
  {
   "cell_type": "code",
   "execution_count": 7,
   "id": "d96739b2",
   "metadata": {},
   "outputs": [
    {
     "data": {
      "text/plain": [
       "Index(['Year', 'Month', 'State', 'Age Group', 'Footnote', 'COVID-19 Deaths',\n",
       "       'Total Deaths', 'Pneumonia Deaths', 'Pneumonia and COVID-19 Deaths',\n",
       "       'Influenza Deaths', 'Pneumonia, Influenza, or COVID-19 Deaths'],\n",
       "      dtype='object')"
      ]
     },
     "execution_count": 7,
     "metadata": {},
     "output_type": "execute_result"
    }
   ],
   "source": [
    "df_covid_deaths.columns"
   ]
  },
  {
   "cell_type": "code",
   "execution_count": 8,
   "id": "24cca76d",
   "metadata": {},
   "outputs": [
    {
     "data": {
      "text/html": [
       "<div>\n",
       "<style scoped>\n",
       "    .dataframe tbody tr th:only-of-type {\n",
       "        vertical-align: middle;\n",
       "    }\n",
       "\n",
       "    .dataframe tbody tr th {\n",
       "        vertical-align: top;\n",
       "    }\n",
       "\n",
       "    .dataframe thead th {\n",
       "        text-align: right;\n",
       "    }\n",
       "</style>\n",
       "<table border=\"1\" class=\"dataframe\">\n",
       "  <thead>\n",
       "    <tr style=\"text-align: right;\">\n",
       "      <th></th>\n",
       "      <th>Year</th>\n",
       "      <th>Month</th>\n",
       "      <th>State</th>\n",
       "      <th>Age Group</th>\n",
       "      <th>Footnote</th>\n",
       "      <th>COVID-19 Deaths</th>\n",
       "      <th>Total Deaths</th>\n",
       "      <th>Pneumonia Deaths</th>\n",
       "      <th>Pneumonia and COVID-19 Deaths</th>\n",
       "      <th>Influenza Deaths</th>\n",
       "      <th>Pneumonia, Influenza, or COVID-19 Deaths</th>\n",
       "    </tr>\n",
       "  </thead>\n",
       "  <tbody>\n",
       "    <tr>\n",
       "      <th>0</th>\n",
       "      <td>2020</td>\n",
       "      <td>1</td>\n",
       "      <td>Alabama</td>\n",
       "      <td>All Ages</td>\n",
       "      <td>One or more data cells have counts between 1-9...</td>\n",
       "      <td>4</td>\n",
       "      <td>4729</td>\n",
       "      <td>282</td>\n",
       "      <td>0</td>\n",
       "      <td>35</td>\n",
       "      <td>318</td>\n",
       "    </tr>\n",
       "    <tr>\n",
       "      <th>1</th>\n",
       "      <td>2020</td>\n",
       "      <td>1</td>\n",
       "      <td>Alabama</td>\n",
       "      <td>Under 1 year</td>\n",
       "      <td>NaN</td>\n",
       "      <td>0</td>\n",
       "      <td>31</td>\n",
       "      <td>0</td>\n",
       "      <td>0</td>\n",
       "      <td>0</td>\n",
       "      <td>0</td>\n",
       "    </tr>\n",
       "    <tr>\n",
       "      <th>2</th>\n",
       "      <td>2020</td>\n",
       "      <td>1</td>\n",
       "      <td>Alabama</td>\n",
       "      <td>1-4 years</td>\n",
       "      <td>One or more data cells have counts between 1-9...</td>\n",
       "      <td>0</td>\n",
       "      <td>12</td>\n",
       "      <td>4</td>\n",
       "      <td>0</td>\n",
       "      <td>0</td>\n",
       "      <td>4</td>\n",
       "    </tr>\n",
       "    <tr>\n",
       "      <th>3</th>\n",
       "      <td>2020</td>\n",
       "      <td>1</td>\n",
       "      <td>Alabama</td>\n",
       "      <td>5-14 years</td>\n",
       "      <td>One or more data cells have counts between 1-9...</td>\n",
       "      <td>0</td>\n",
       "      <td>16</td>\n",
       "      <td>4</td>\n",
       "      <td>0</td>\n",
       "      <td>0</td>\n",
       "      <td>4</td>\n",
       "    </tr>\n",
       "    <tr>\n",
       "      <th>4</th>\n",
       "      <td>2020</td>\n",
       "      <td>1</td>\n",
       "      <td>Alabama</td>\n",
       "      <td>15-24 years</td>\n",
       "      <td>One or more data cells have counts between 1-9...</td>\n",
       "      <td>0</td>\n",
       "      <td>56</td>\n",
       "      <td>0</td>\n",
       "      <td>0</td>\n",
       "      <td>4</td>\n",
       "      <td>4</td>\n",
       "    </tr>\n",
       "    <tr>\n",
       "      <th>5</th>\n",
       "      <td>2020</td>\n",
       "      <td>1</td>\n",
       "      <td>Alabama</td>\n",
       "      <td>25-34 years</td>\n",
       "      <td>One or more data cells have counts between 1-9...</td>\n",
       "      <td>0</td>\n",
       "      <td>77</td>\n",
       "      <td>4</td>\n",
       "      <td>0</td>\n",
       "      <td>0</td>\n",
       "      <td>4</td>\n",
       "    </tr>\n",
       "    <tr>\n",
       "      <th>6</th>\n",
       "      <td>2020</td>\n",
       "      <td>1</td>\n",
       "      <td>Alabama</td>\n",
       "      <td>35-44 years</td>\n",
       "      <td>One or more data cells have counts between 1-9...</td>\n",
       "      <td>0</td>\n",
       "      <td>132</td>\n",
       "      <td>4</td>\n",
       "      <td>0</td>\n",
       "      <td>4</td>\n",
       "      <td>4</td>\n",
       "    </tr>\n",
       "    <tr>\n",
       "      <th>7</th>\n",
       "      <td>2020</td>\n",
       "      <td>1</td>\n",
       "      <td>Alabama</td>\n",
       "      <td>45-54 years</td>\n",
       "      <td>One or more data cells have counts between 1-9...</td>\n",
       "      <td>0</td>\n",
       "      <td>297</td>\n",
       "      <td>18</td>\n",
       "      <td>0</td>\n",
       "      <td>4</td>\n",
       "      <td>21</td>\n",
       "    </tr>\n",
       "    <tr>\n",
       "      <th>8</th>\n",
       "      <td>2020</td>\n",
       "      <td>1</td>\n",
       "      <td>Alabama</td>\n",
       "      <td>55-64 years</td>\n",
       "      <td>One or more data cells have counts between 1-9...</td>\n",
       "      <td>4</td>\n",
       "      <td>719</td>\n",
       "      <td>41</td>\n",
       "      <td>0</td>\n",
       "      <td>11</td>\n",
       "      <td>53</td>\n",
       "    </tr>\n",
       "    <tr>\n",
       "      <th>9</th>\n",
       "      <td>2020</td>\n",
       "      <td>1</td>\n",
       "      <td>Alabama</td>\n",
       "      <td>65-74 years</td>\n",
       "      <td>NaN</td>\n",
       "      <td>0</td>\n",
       "      <td>1034</td>\n",
       "      <td>64</td>\n",
       "      <td>0</td>\n",
       "      <td>11</td>\n",
       "      <td>75</td>\n",
       "    </tr>\n",
       "    <tr>\n",
       "      <th>10</th>\n",
       "      <td>2020</td>\n",
       "      <td>1</td>\n",
       "      <td>Alabama</td>\n",
       "      <td>75-84 years</td>\n",
       "      <td>One or more data cells have counts between 1-9...</td>\n",
       "      <td>0</td>\n",
       "      <td>1178</td>\n",
       "      <td>86</td>\n",
       "      <td>0</td>\n",
       "      <td>4</td>\n",
       "      <td>91</td>\n",
       "    </tr>\n",
       "    <tr>\n",
       "      <th>11</th>\n",
       "      <td>2020</td>\n",
       "      <td>1</td>\n",
       "      <td>Alabama</td>\n",
       "      <td>85 years and over</td>\n",
       "      <td>One or more data cells have counts between 1-9...</td>\n",
       "      <td>0</td>\n",
       "      <td>1177</td>\n",
       "      <td>64</td>\n",
       "      <td>0</td>\n",
       "      <td>4</td>\n",
       "      <td>65</td>\n",
       "    </tr>\n",
       "    <tr>\n",
       "      <th>12</th>\n",
       "      <td>2020</td>\n",
       "      <td>2</td>\n",
       "      <td>Alabama</td>\n",
       "      <td>All Ages</td>\n",
       "      <td>One or more data cells have counts between 1-9...</td>\n",
       "      <td>4</td>\n",
       "      <td>4627</td>\n",
       "      <td>276</td>\n",
       "      <td>0</td>\n",
       "      <td>39</td>\n",
       "      <td>316</td>\n",
       "    </tr>\n",
       "    <tr>\n",
       "      <th>13</th>\n",
       "      <td>2020</td>\n",
       "      <td>2</td>\n",
       "      <td>Alabama</td>\n",
       "      <td>Under 1 year</td>\n",
       "      <td>One or more data cells have counts between 1-9...</td>\n",
       "      <td>0</td>\n",
       "      <td>40</td>\n",
       "      <td>0</td>\n",
       "      <td>0</td>\n",
       "      <td>4</td>\n",
       "      <td>4</td>\n",
       "    </tr>\n",
       "    <tr>\n",
       "      <th>14</th>\n",
       "      <td>2020</td>\n",
       "      <td>2</td>\n",
       "      <td>Alabama</td>\n",
       "      <td>1-4 years</td>\n",
       "      <td>One or more data cells have counts between 1-9...</td>\n",
       "      <td>0</td>\n",
       "      <td>4</td>\n",
       "      <td>0</td>\n",
       "      <td>0</td>\n",
       "      <td>4</td>\n",
       "      <td>4</td>\n",
       "    </tr>\n",
       "    <tr>\n",
       "      <th>15</th>\n",
       "      <td>2020</td>\n",
       "      <td>2</td>\n",
       "      <td>Alabama</td>\n",
       "      <td>5-14 years</td>\n",
       "      <td>One or more data cells have counts between 1-9...</td>\n",
       "      <td>0</td>\n",
       "      <td>4</td>\n",
       "      <td>0</td>\n",
       "      <td>0</td>\n",
       "      <td>0</td>\n",
       "      <td>0</td>\n",
       "    </tr>\n",
       "    <tr>\n",
       "      <th>16</th>\n",
       "      <td>2020</td>\n",
       "      <td>2</td>\n",
       "      <td>Alabama</td>\n",
       "      <td>15-24 years</td>\n",
       "      <td>One or more data cells have counts between 1-9...</td>\n",
       "      <td>0</td>\n",
       "      <td>49</td>\n",
       "      <td>4</td>\n",
       "      <td>0</td>\n",
       "      <td>0</td>\n",
       "      <td>4</td>\n",
       "    </tr>\n",
       "    <tr>\n",
       "      <th>17</th>\n",
       "      <td>2020</td>\n",
       "      <td>2</td>\n",
       "      <td>Alabama</td>\n",
       "      <td>25-34 years</td>\n",
       "      <td>One or more data cells have counts between 1-9...</td>\n",
       "      <td>0</td>\n",
       "      <td>93</td>\n",
       "      <td>4</td>\n",
       "      <td>0</td>\n",
       "      <td>4</td>\n",
       "      <td>4</td>\n",
       "    </tr>\n",
       "    <tr>\n",
       "      <th>18</th>\n",
       "      <td>2020</td>\n",
       "      <td>2</td>\n",
       "      <td>Alabama</td>\n",
       "      <td>35-44 years</td>\n",
       "      <td>One or more data cells have counts between 1-9...</td>\n",
       "      <td>0</td>\n",
       "      <td>153</td>\n",
       "      <td>4</td>\n",
       "      <td>0</td>\n",
       "      <td>4</td>\n",
       "      <td>4</td>\n",
       "    </tr>\n",
       "    <tr>\n",
       "      <th>19</th>\n",
       "      <td>2020</td>\n",
       "      <td>2</td>\n",
       "      <td>Alabama</td>\n",
       "      <td>45-54 years</td>\n",
       "      <td>One or more data cells have counts between 1-9...</td>\n",
       "      <td>0</td>\n",
       "      <td>295</td>\n",
       "      <td>12</td>\n",
       "      <td>0</td>\n",
       "      <td>4</td>\n",
       "      <td>16</td>\n",
       "    </tr>\n",
       "  </tbody>\n",
       "</table>\n",
       "</div>"
      ],
      "text/plain": [
       "    Year  Month    State          Age Group  \\\n",
       "0   2020      1  Alabama           All Ages   \n",
       "1   2020      1  Alabama       Under 1 year   \n",
       "2   2020      1  Alabama          1-4 years   \n",
       "3   2020      1  Alabama         5-14 years   \n",
       "4   2020      1  Alabama        15-24 years   \n",
       "5   2020      1  Alabama        25-34 years   \n",
       "6   2020      1  Alabama        35-44 years   \n",
       "7   2020      1  Alabama        45-54 years   \n",
       "8   2020      1  Alabama        55-64 years   \n",
       "9   2020      1  Alabama        65-74 years   \n",
       "10  2020      1  Alabama        75-84 years   \n",
       "11  2020      1  Alabama  85 years and over   \n",
       "12  2020      2  Alabama           All Ages   \n",
       "13  2020      2  Alabama       Under 1 year   \n",
       "14  2020      2  Alabama          1-4 years   \n",
       "15  2020      2  Alabama         5-14 years   \n",
       "16  2020      2  Alabama        15-24 years   \n",
       "17  2020      2  Alabama        25-34 years   \n",
       "18  2020      2  Alabama        35-44 years   \n",
       "19  2020      2  Alabama        45-54 years   \n",
       "\n",
       "                                             Footnote  COVID-19 Deaths  \\\n",
       "0   One or more data cells have counts between 1-9...                4   \n",
       "1                                                 NaN                0   \n",
       "2   One or more data cells have counts between 1-9...                0   \n",
       "3   One or more data cells have counts between 1-9...                0   \n",
       "4   One or more data cells have counts between 1-9...                0   \n",
       "5   One or more data cells have counts between 1-9...                0   \n",
       "6   One or more data cells have counts between 1-9...                0   \n",
       "7   One or more data cells have counts between 1-9...                0   \n",
       "8   One or more data cells have counts between 1-9...                4   \n",
       "9                                                 NaN                0   \n",
       "10  One or more data cells have counts between 1-9...                0   \n",
       "11  One or more data cells have counts between 1-9...                0   \n",
       "12  One or more data cells have counts between 1-9...                4   \n",
       "13  One or more data cells have counts between 1-9...                0   \n",
       "14  One or more data cells have counts between 1-9...                0   \n",
       "15  One or more data cells have counts between 1-9...                0   \n",
       "16  One or more data cells have counts between 1-9...                0   \n",
       "17  One or more data cells have counts between 1-9...                0   \n",
       "18  One or more data cells have counts between 1-9...                0   \n",
       "19  One or more data cells have counts between 1-9...                0   \n",
       "\n",
       "    Total Deaths  Pneumonia Deaths  Pneumonia and COVID-19 Deaths  \\\n",
       "0           4729               282                              0   \n",
       "1             31                 0                              0   \n",
       "2             12                 4                              0   \n",
       "3             16                 4                              0   \n",
       "4             56                 0                              0   \n",
       "5             77                 4                              0   \n",
       "6            132                 4                              0   \n",
       "7            297                18                              0   \n",
       "8            719                41                              0   \n",
       "9           1034                64                              0   \n",
       "10          1178                86                              0   \n",
       "11          1177                64                              0   \n",
       "12          4627               276                              0   \n",
       "13            40                 0                              0   \n",
       "14             4                 0                              0   \n",
       "15             4                 0                              0   \n",
       "16            49                 4                              0   \n",
       "17            93                 4                              0   \n",
       "18           153                 4                              0   \n",
       "19           295                12                              0   \n",
       "\n",
       "    Influenza Deaths  Pneumonia, Influenza, or COVID-19 Deaths  \n",
       "0                 35                                       318  \n",
       "1                  0                                         0  \n",
       "2                  0                                         4  \n",
       "3                  0                                         4  \n",
       "4                  4                                         4  \n",
       "5                  0                                         4  \n",
       "6                  4                                         4  \n",
       "7                  4                                        21  \n",
       "8                 11                                        53  \n",
       "9                 11                                        75  \n",
       "10                 4                                        91  \n",
       "11                 4                                        65  \n",
       "12                39                                       316  \n",
       "13                 4                                         4  \n",
       "14                 4                                         4  \n",
       "15                 0                                         0  \n",
       "16                 0                                         4  \n",
       "17                 4                                         4  \n",
       "18                 4                                         4  \n",
       "19                 4                                        16  "
      ]
     },
     "execution_count": 8,
     "metadata": {},
     "output_type": "execute_result"
    }
   ],
   "source": [
    "df_covid_deaths.head(20)"
   ]
  },
  {
   "cell_type": "code",
   "execution_count": 9,
   "id": "23091f73",
   "metadata": {},
   "outputs": [
    {
     "data": {
      "text/plain": [
       "(26832, 11)"
      ]
     },
     "execution_count": 9,
     "metadata": {},
     "output_type": "execute_result"
    }
   ],
   "source": [
    "df_covid_deaths.shape"
   ]
  },
  {
   "cell_type": "markdown",
   "id": "eea79a8f",
   "metadata": {},
   "source": [
    "### Missing Values"
   ]
  },
  {
   "cell_type": "code",
   "execution_count": 10,
   "id": "9ee48f55",
   "metadata": {},
   "outputs": [
    {
     "data": {
      "text/plain": [
       "Year                                           0\n",
       "Month                                          0\n",
       "State                                          0\n",
       "Age Group                                      0\n",
       "Footnote                                    8165\n",
       "COVID-19 Deaths                                0\n",
       "Total Deaths                                   0\n",
       "Pneumonia Deaths                               0\n",
       "Pneumonia and COVID-19 Deaths                  0\n",
       "Influenza Deaths                               0\n",
       "Pneumonia, Influenza, or COVID-19 Deaths       0\n",
       "dtype: int64"
      ]
     },
     "execution_count": 10,
     "metadata": {},
     "output_type": "execute_result"
    }
   ],
   "source": [
    "# check for missing values\n",
    "df_covid_deaths.isnull().sum()"
   ]
  },
  {
   "cell_type": "markdown",
   "id": "2844611e",
   "metadata": {},
   "source": [
    "#### No missing values"
   ]
  },
  {
   "cell_type": "markdown",
   "id": "91e2e5c5",
   "metadata": {},
   "source": [
    "### Duplicates check"
   ]
  },
  {
   "cell_type": "code",
   "execution_count": 11,
   "id": "f3ef3eb5",
   "metadata": {},
   "outputs": [],
   "source": [
    "dups = df_covid_deaths.duplicated()"
   ]
  },
  {
   "cell_type": "code",
   "execution_count": 12,
   "id": "85237d4c",
   "metadata": {},
   "outputs": [
    {
     "data": {
      "text/plain": [
       "(26832,)"
      ]
     },
     "execution_count": 12,
     "metadata": {},
     "output_type": "execute_result"
    }
   ],
   "source": [
    "dups.shape"
   ]
  },
  {
   "cell_type": "markdown",
   "id": "481b11f6",
   "metadata": {},
   "source": [
    "#### No duplicates"
   ]
  },
  {
   "cell_type": "markdown",
   "id": "14d68e3e",
   "metadata": {},
   "source": [
    "### Extreme values check"
   ]
  },
  {
   "cell_type": "code",
   "execution_count": 13,
   "id": "c99ccc8a",
   "metadata": {},
   "outputs": [
    {
     "name": "stderr",
     "output_type": "stream",
     "text": [
      "/var/folders/k6/pg6yg6t53cxfkd7vgpgz1q780000gn/T/ipykernel_37060/4103085251.py:1: UserWarning: \n",
      "\n",
      "`distplot` is a deprecated function and will be removed in seaborn v0.14.0.\n",
      "\n",
      "Please adapt your code to use either `displot` (a figure-level function with\n",
      "similar flexibility) or `histplot` (an axes-level function for histograms).\n",
      "\n",
      "For a guide to updating your code to use the new functions, please see\n",
      "https://gist.github.com/mwaskom/de44147ed2974457ad6372750bbe5751\n",
      "\n",
      "  sns.distplot(df_covid_deaths['COVID-19 Deaths'], bins=200) # Shows extreme values\n"
     ]
    },
    {
     "data": {
      "text/plain": [
       "<Axes: xlabel='COVID-19 Deaths', ylabel='Density'>"
      ]
     },
     "execution_count": 13,
     "metadata": {},
     "output_type": "execute_result"
    },
    {
     "data": {
      "image/png": "[encoded data removed]",
      "text/plain": [
       "<Figure size 640x480 with 1 Axes>"
      ]
     },
     "metadata": {},
     "output_type": "display_data"
    }
   ],
   "source": [
    "sns.distplot(df_covid_deaths['COVID-19 Deaths'], bins=200) # Shows extreme values"
   ]
  },
  {
   "cell_type": "markdown",
   "id": "58f692b6",
   "metadata": {},
   "source": [
    "#### There are extreme values or outliers, but they are not true outliers because they are accurate death totals that need to be accounted for. We cannot remove these outliers without removing valuable information."
   ]
  },
  {
   "cell_type": "code",
   "execution_count": 14,
   "id": "6e079000",
   "metadata": {},
   "outputs": [
    {
     "data": {
      "text/plain": [
       "46.67128801431127"
      ]
     },
     "execution_count": 14,
     "metadata": {},
     "output_type": "execute_result"
    }
   ],
   "source": [
    "# filter out rows with \"All Ages\"\n",
    "filtered_df_1 = df_covid_deaths.loc[df_covid_deaths['Age Group'] != 'All Ages']\n",
    "# check the mean\n",
    "filtered_df_1['COVID-19 Deaths'].mean()"
   ]
  },
  {
   "cell_type": "code",
   "execution_count": 15,
   "id": "7a5ab355",
   "metadata": {},
   "outputs": [
    {
     "data": {
      "text/plain": [
       "4.0"
      ]
     },
     "execution_count": 15,
     "metadata": {},
     "output_type": "execute_result"
    }
   ],
   "source": [
    "# check the median of the filtered data\n",
    "filtered_df_1['COVID-19 Deaths'].median()"
   ]
  },
  {
   "cell_type": "code",
   "execution_count": 16,
   "id": "54289100",
   "metadata": {},
   "outputs": [
    {
     "data": {
      "text/plain": [
       "6114"
      ]
     },
     "execution_count": 16,
     "metadata": {},
     "output_type": "execute_result"
    }
   ],
   "source": [
    "# check the max of the filtered data\n",
    "filtered_df_1['COVID-19 Deaths'].max()"
   ]
  },
  {
   "cell_type": "markdown",
   "id": "702050f7",
   "metadata": {},
   "source": [
    "# 03. Data prep for regression analysis - Pneumonia vs. COVID"
   ]
  },
  {
   "cell_type": "code",
   "execution_count": 17,
   "id": "d28c29f8",
   "metadata": {},
   "outputs": [
    {
     "data": {
      "image/png": "[encoded data removed]",
      "text/plain": [
       "<Figure size 640x480 with 1 Axes>"
      ]
     },
     "metadata": {},
     "output_type": "display_data"
    }
   ],
   "source": [
    "# Create a scatterplot using matplotlib for another look at how the chosen variables plot against each other.\n",
    "filtered_df_1.plot(x = 'Pneumonia Deaths', y='COVID-19 Deaths',style='o') # The style option creates a scatterplot; without it, we only have lines.\n",
    "plt.title('Pneumonia Deaths vs. COVID-19 Deaths')  \n",
    "plt.xlabel('Pneumonia Deaths')  \n",
    "plt.ylabel('COVID-19 Deaths')  \n",
    "plt.show()"
   ]
  },
  {
   "cell_type": "markdown",
   "id": "b2612110",
   "metadata": {},
   "source": [
    "## HYPOTHESIS: If there are more pneumonia deaths, then there will be more COVID-19 deaths."
   ]
  },
  {
   "cell_type": "code",
   "execution_count": 18,
   "id": "1fdec51c",
   "metadata": {},
   "outputs": [],
   "source": [
    "# Reshape the variables into NumPy arrays and put them into separate objects.\n",
    "X = filtered_df_1['Pneumonia Deaths'].values.reshape(-1,1)\n",
    "y = filtered_df_1['COVID-19 Deaths'].values.reshape(-1,1)"
   ]
  },
  {
   "cell_type": "code",
   "execution_count": 19,
   "id": "22a158c8",
   "metadata": {},
   "outputs": [
    {
     "data": {
      "text/plain": [
       "array([[ 0],\n",
       "       [ 4],\n",
       "       [ 4],\n",
       "       ...,\n",
       "       [11],\n",
       "       [26],\n",
       "       [25]])"
      ]
     },
     "execution_count": 19,
     "metadata": {},
     "output_type": "execute_result"
    }
   ],
   "source": [
    "X"
   ]
  },
  {
   "cell_type": "code",
   "execution_count": 20,
   "id": "83cf9bd1",
   "metadata": {},
   "outputs": [
    {
     "data": {
      "text/plain": [
       "array([[0],\n",
       "       [0],\n",
       "       [0],\n",
       "       ...,\n",
       "       [4],\n",
       "       [4],\n",
       "       [4]])"
      ]
     },
     "execution_count": 20,
     "metadata": {},
     "output_type": "execute_result"
    }
   ],
   "source": [
    "y"
   ]
  },
  {
   "cell_type": "code",
   "execution_count": 21,
   "id": "ac063607",
   "metadata": {},
   "outputs": [],
   "source": [
    "# Split data into a training set and a test set.\n",
    "X_train, X_test, y_train, y_test = train_test_split(X, y, test_size=0.3, random_state=0)"
   ]
  },
  {
   "cell_type": "markdown",
   "id": "1420bb65",
   "metadata": {},
   "source": [
    "# 04. Regression analysis - Pneumonia vs. COVID"
   ]
  },
  {
   "cell_type": "code",
   "execution_count": 40,
   "id": "25113da6",
   "metadata": {},
   "outputs": [],
   "source": [
    "# Create a regression object.\n",
    "regression = LinearRegression()  # This is the regression object, which will be fit onto the training set."
   ]
  },
  {
   "cell_type": "code",
   "execution_count": 41,
   "id": "53a3558f",
   "metadata": {},
   "outputs": [
    {
     "data": {
      "text/html": [
       "<style>#sk-container-id-3 {color: black;background-color: white;}#sk-container-id-3 pre{padding: 0;}#sk-container-id-3 div.sk-toggleable {background-color: white;}#sk-container-id-3 label.sk-toggleable__label {cursor: pointer;display: block;width: 100%;margin-bottom: 0;padding: 0.3em;box-sizing: border-box;text-align: center;}#sk-container-id-3 label.sk-toggleable__label-arrow:before {content: \"▸\";float: left;margin-right: 0.25em;color: #696969;}#sk-container-id-3 label.sk-toggleable__label-arrow:hover:before {color: black;}#sk-container-id-3 div.sk-estimator:hover label.sk-toggleable__label-arrow:before {color: black;}#sk-container-id-3 div.sk-toggleable__content {max-height: 0;max-width: 0;overflow: hidden;text-align: left;background-color: #f0f8ff;}#sk-container-id-3 div.sk-toggleable__content pre {margin: 0.2em;color: black;border-radius: 0.25em;background-color: #f0f8ff;}#sk-container-id-3 input.sk-toggleable__control:checked~div.sk-toggleable__content {max-height: 200px;max-width: 100%;overflow: auto;}#sk-container-id-3 input.sk-toggleable__control:checked~label.sk-toggleable__label-arrow:before {content: \"▾\";}#sk-container-id-3 div.sk-estimator input.sk-toggleable__control:checked~label.sk-toggleable__label {background-color: #d4ebff;}#sk-container-id-3 div.sk-label input.sk-toggleable__control:checked~label.sk-toggleable__label {background-color: #d4ebff;}#sk-container-id-3 input.sk-hidden--visually {border: 0;clip: rect(1px 1px 1px 1px);clip: rect(1px, 1px, 1px, 1px);height: 1px;margin: -1px;overflow: hidden;padding: 0;position: absolute;width: 1px;}#sk-container-id-3 div.sk-estimator {font-family: monospace;background-color: #f0f8ff;border: 1px dotted black;border-radius: 0.25em;box-sizing: border-box;margin-bottom: 0.5em;}#sk-container-id-3 div.sk-estimator:hover {background-color: #d4ebff;}#sk-container-id-3 div.sk-parallel-item::after {content: \"\";width: 100%;border-bottom: 1px solid gray;flex-grow: 1;}#sk-container-id-3 div.sk-label:hover label.sk-toggleable__label {background-color: #d4ebff;}#sk-container-id-3 div.sk-serial::before {content: \"\";position: absolute;border-left: 1px solid gray;box-sizing: border-box;top: 0;bottom: 0;left: 50%;z-index: 0;}#sk-container-id-3 div.sk-serial {display: flex;flex-direction: column;align-items: center;background-color: white;padding-right: 0.2em;padding-left: 0.2em;position: relative;}#sk-container-id-3 div.sk-item {position: relative;z-index: 1;}#sk-container-id-3 div.sk-parallel {display: flex;align-items: stretch;justify-content: center;background-color: white;position: relative;}#sk-container-id-3 div.sk-item::before, #sk-container-id-3 div.sk-parallel-item::before {content: \"\";position: absolute;border-left: 1px solid gray;box-sizing: border-box;top: 0;bottom: 0;left: 50%;z-index: -1;}#sk-container-id-3 div.sk-parallel-item {display: flex;flex-direction: column;z-index: 1;position: relative;background-color: white;}#sk-container-id-3 div.sk-parallel-item:first-child::after {align-self: flex-end;width: 50%;}#sk-container-id-3 div.sk-parallel-item:last-child::after {align-self: flex-start;width: 50%;}#sk-container-id-3 div.sk-parallel-item:only-child::after {width: 0;}#sk-container-id-3 div.sk-dashed-wrapped {border: 1px dashed gray;margin: 0 0.4em 0.5em 0.4em;box-sizing: border-box;padding-bottom: 0.4em;background-color: white;}#sk-container-id-3 div.sk-label label {font-family: monospace;font-weight: bold;display: inline-block;line-height: 1.2em;}#sk-container-id-3 div.sk-label-container {text-align: center;}#sk-container-id-3 div.sk-container {/* jupyter's `normalize.less` sets `[hidden] { display: none; }` but bootstrap.min.css set `[hidden] { display: none !important; }` so we also need the `!important` here to be able to override the default hidden behavior on the sphinx rendered scikit-learn.org. See: https://github.com/scikit-learn/scikit-learn/issues/21755 */display: inline-block !important;position: relative;}#sk-container-id-3 div.sk-text-repr-fallback {display: none;}</style><div id=\"sk-container-id-3\" class=\"sk-top-container\"><div class=\"sk-text-repr-fallback\"><pre>LinearRegression()</pre><b>In a Jupyter environment, please rerun this cell to show the HTML representation or trust the notebook. <br />On GitHub, the HTML representation is unable to render, please try loading this page with nbviewer.org.</b></div><div class=\"sk-container\" hidden><div class=\"sk-item\"><div class=\"sk-estimator sk-toggleable\"><input class=\"sk-toggleable__control sk-hidden--visually\" id=\"sk-estimator-id-3\" type=\"checkbox\" checked><label for=\"sk-estimator-id-3\" class=\"sk-toggleable__label sk-toggleable__label-arrow\">LinearRegression</label><div class=\"sk-toggleable__content\"><pre>LinearRegression()</pre></div></div></div></div></div>"
      ],
      "text/plain": [
       "LinearRegression()"
      ]
     },
     "execution_count": 41,
     "metadata": {},
     "output_type": "execute_result"
    }
   ],
   "source": [
    "# Fit the regression object onto the training set.\n",
    "regression.fit(X_train, y_train)"
   ]
  },
  {
   "cell_type": "code",
   "execution_count": 42,
   "id": "cda91a89",
   "metadata": {},
   "outputs": [],
   "source": [
    "# Predict the values of y using X.\n",
    "y_predicted = regression.predict(X_test)"
   ]
  },
  {
   "cell_type": "code",
   "execution_count": 47,
   "id": "e88507cc",
   "metadata": {
    "scrolled": true
   },
   "outputs": [
    {
     "data": {
      "image/png": "[encoded data removed]",
      "text/plain": [
       "<Figure size 640x480 with 1 Axes>"
      ]
     },
     "metadata": {},
     "output_type": "display_data"
    }
   ],
   "source": [
    "# Create a plot that shows the regression line from the model on the test set.\n",
    "plot_test = plt.figure()\n",
    "plt.scatter(X_test, y_test, color='teal', s = 15)\n",
    "plt.plot(X_test, y_predicted, color='pink', linewidth =3)\n",
    "plt.title('Pneumonia Deaths vs. COVID-19 Deaths (Test set)')\n",
    "plt.xlabel('Pneumonia Deaths')\n",
    "plt.ylabel('COVID-19 Deaths')\n",
    "folder_path = '/Users/kirstinhelgeson/Desktop/Data Analytics Course/07-2023 Achievement 6 Project/04 Analysis/Visualizations'\n",
    "output_file_path = os.path.join(folder_path, 'linear_regression.png')\n",
    "plt.savefig(output_file_path)\n",
    "plt.show()"
   ]
  },
  {
   "cell_type": "markdown",
   "id": "aff80fa8",
   "metadata": {},
   "source": [
    "### While the points follow the general trend of this line, they are not all close to the line and some points are definitely further away. Removing these outliers though would not be ideal in this case because we know these death totals are accurate according to the CDC even if they are unexpectedly high at times."
   ]
  },
  {
   "cell_type": "code",
   "execution_count": 38,
   "id": "6bc2cc0f",
   "metadata": {},
   "outputs": [],
   "source": [
    "# Create objects that contain the model summary statistics.\n",
    "rmse = mean_squared_error(y_test, y_predicted) # This is the mean squared error\n",
    "r2 = r2_score(y_test, y_predicted) # This is the R2 score. "
   ]
  },
  {
   "cell_type": "code",
   "execution_count": 39,
   "id": "7d84d6ef",
   "metadata": {},
   "outputs": [
    {
     "name": "stdout",
     "output_type": "stream",
     "text": [
      "Slope: [[1.25238724]]\n",
      "Mean squared error:  3506.123586208828\n",
      "R2 score:  0.8999278625255183\n"
     ]
    }
   ],
   "source": [
    "# Print the model summary statistics. This is where you evaluate the performance of the model.\n",
    "print('Slope:' ,regression.coef_)\n",
    "print('Mean squared error: ', rmse)\n",
    "print('R2 score: ', r2)"
   ]
  },
  {
   "cell_type": "code",
   "execution_count": 40,
   "id": "e72fb8dd",
   "metadata": {},
   "outputs": [
    {
     "data": {
      "text/plain": [
       "array([[ -7.09375498],\n",
       "       [141.94032677],\n",
       "       [ 81.82573917],\n",
       "       ...,\n",
       "       [ 25.4683133 ],\n",
       "       [ -7.09375498],\n",
       "       [  9.18727916]])"
      ]
     },
     "execution_count": 40,
     "metadata": {},
     "output_type": "execute_result"
    }
   ],
   "source": [
    "y_predicted"
   ]
  },
  {
   "cell_type": "code",
   "execution_count": 41,
   "id": "d610c816",
   "metadata": {},
   "outputs": [
    {
     "data": {
      "text/html": [
       "<div>\n",
       "<style scoped>\n",
       "    .dataframe tbody tr th:only-of-type {\n",
       "        vertical-align: middle;\n",
       "    }\n",
       "\n",
       "    .dataframe tbody tr th {\n",
       "        vertical-align: top;\n",
       "    }\n",
       "\n",
       "    .dataframe thead th {\n",
       "        text-align: right;\n",
       "    }\n",
       "</style>\n",
       "<table border=\"1\" class=\"dataframe\">\n",
       "  <thead>\n",
       "    <tr style=\"text-align: right;\">\n",
       "      <th></th>\n",
       "      <th>Actual</th>\n",
       "      <th>Predicted</th>\n",
       "    </tr>\n",
       "  </thead>\n",
       "  <tbody>\n",
       "    <tr>\n",
       "      <th>0</th>\n",
       "      <td>0</td>\n",
       "      <td>-7.093755</td>\n",
       "    </tr>\n",
       "    <tr>\n",
       "      <th>1</th>\n",
       "      <td>129</td>\n",
       "      <td>141.940327</td>\n",
       "    </tr>\n",
       "    <tr>\n",
       "      <th>2</th>\n",
       "      <td>107</td>\n",
       "      <td>81.825739</td>\n",
       "    </tr>\n",
       "    <tr>\n",
       "      <th>3</th>\n",
       "      <td>22</td>\n",
       "      <td>80.573352</td>\n",
       "    </tr>\n",
       "    <tr>\n",
       "      <th>4</th>\n",
       "      <td>0</td>\n",
       "      <td>-12.103304</td>\n",
       "    </tr>\n",
       "    <tr>\n",
       "      <th>5</th>\n",
       "      <td>4</td>\n",
       "      <td>-7.093755</td>\n",
       "    </tr>\n",
       "    <tr>\n",
       "      <th>6</th>\n",
       "      <td>0</td>\n",
       "      <td>-7.093755</td>\n",
       "    </tr>\n",
       "    <tr>\n",
       "      <th>7</th>\n",
       "      <td>4</td>\n",
       "      <td>-7.093755</td>\n",
       "    </tr>\n",
       "    <tr>\n",
       "      <th>8</th>\n",
       "      <td>4</td>\n",
       "      <td>-7.093755</td>\n",
       "    </tr>\n",
       "    <tr>\n",
       "      <th>9</th>\n",
       "      <td>4</td>\n",
       "      <td>56.777994</td>\n",
       "    </tr>\n",
       "    <tr>\n",
       "      <th>10</th>\n",
       "      <td>4</td>\n",
       "      <td>-7.093755</td>\n",
       "    </tr>\n",
       "    <tr>\n",
       "      <th>11</th>\n",
       "      <td>0</td>\n",
       "      <td>-12.103304</td>\n",
       "    </tr>\n",
       "    <tr>\n",
       "      <th>12</th>\n",
       "      <td>0</td>\n",
       "      <td>-12.103304</td>\n",
       "    </tr>\n",
       "    <tr>\n",
       "      <th>13</th>\n",
       "      <td>14</td>\n",
       "      <td>34.235024</td>\n",
       "    </tr>\n",
       "    <tr>\n",
       "      <th>14</th>\n",
       "      <td>0</td>\n",
       "      <td>-12.103304</td>\n",
       "    </tr>\n",
       "    <tr>\n",
       "      <th>15</th>\n",
       "      <td>0</td>\n",
       "      <td>-12.103304</td>\n",
       "    </tr>\n",
       "    <tr>\n",
       "      <th>16</th>\n",
       "      <td>4</td>\n",
       "      <td>-7.093755</td>\n",
       "    </tr>\n",
       "    <tr>\n",
       "      <th>17</th>\n",
       "      <td>0</td>\n",
       "      <td>-12.103304</td>\n",
       "    </tr>\n",
       "    <tr>\n",
       "      <th>18</th>\n",
       "      <td>0</td>\n",
       "      <td>-12.103304</td>\n",
       "    </tr>\n",
       "    <tr>\n",
       "      <th>19</th>\n",
       "      <td>4</td>\n",
       "      <td>-7.093755</td>\n",
       "    </tr>\n",
       "    <tr>\n",
       "      <th>20</th>\n",
       "      <td>10</td>\n",
       "      <td>2.925343</td>\n",
       "    </tr>\n",
       "    <tr>\n",
       "      <th>21</th>\n",
       "      <td>26</td>\n",
       "      <td>41.749347</td>\n",
       "    </tr>\n",
       "    <tr>\n",
       "      <th>22</th>\n",
       "      <td>33</td>\n",
       "      <td>32.982637</td>\n",
       "    </tr>\n",
       "    <tr>\n",
       "      <th>23</th>\n",
       "      <td>103</td>\n",
       "      <td>45.506509</td>\n",
       "    </tr>\n",
       "    <tr>\n",
       "      <th>24</th>\n",
       "      <td>104</td>\n",
       "      <td>151.959425</td>\n",
       "    </tr>\n",
       "    <tr>\n",
       "      <th>25</th>\n",
       "      <td>0</td>\n",
       "      <td>-12.103304</td>\n",
       "    </tr>\n",
       "    <tr>\n",
       "      <th>26</th>\n",
       "      <td>4</td>\n",
       "      <td>2.925343</td>\n",
       "    </tr>\n",
       "    <tr>\n",
       "      <th>27</th>\n",
       "      <td>132</td>\n",
       "      <td>561.490053</td>\n",
       "    </tr>\n",
       "    <tr>\n",
       "      <th>28</th>\n",
       "      <td>0</td>\n",
       "      <td>-7.093755</td>\n",
       "    </tr>\n",
       "    <tr>\n",
       "      <th>29</th>\n",
       "      <td>4</td>\n",
       "      <td>1.672956</td>\n",
       "    </tr>\n",
       "  </tbody>\n",
       "</table>\n",
       "</div>"
      ],
      "text/plain": [
       "    Actual   Predicted\n",
       "0        0   -7.093755\n",
       "1      129  141.940327\n",
       "2      107   81.825739\n",
       "3       22   80.573352\n",
       "4        0  -12.103304\n",
       "5        4   -7.093755\n",
       "6        0   -7.093755\n",
       "7        4   -7.093755\n",
       "8        4   -7.093755\n",
       "9        4   56.777994\n",
       "10       4   -7.093755\n",
       "11       0  -12.103304\n",
       "12       0  -12.103304\n",
       "13      14   34.235024\n",
       "14       0  -12.103304\n",
       "15       0  -12.103304\n",
       "16       4   -7.093755\n",
       "17       0  -12.103304\n",
       "18       0  -12.103304\n",
       "19       4   -7.093755\n",
       "20      10    2.925343\n",
       "21      26   41.749347\n",
       "22      33   32.982637\n",
       "23     103   45.506509\n",
       "24     104  151.959425\n",
       "25       0  -12.103304\n",
       "26       4    2.925343\n",
       "27     132  561.490053\n",
       "28       0   -7.093755\n",
       "29       4    1.672956"
      ]
     },
     "execution_count": 41,
     "metadata": {},
     "output_type": "execute_result"
    }
   ],
   "source": [
    "# Create a dataframe comparing the actual and predicted values of y.\n",
    "data = pd.DataFrame({'Actual': y_test.flatten(), 'Predicted': y_predicted.flatten()})\n",
    "data.head(30)"
   ]
  },
  {
   "cell_type": "markdown",
   "id": "5a8552f9",
   "metadata": {},
   "source": [
    "### Compare how the regression fits the training set"
   ]
  },
  {
   "cell_type": "code",
   "execution_count": 42,
   "id": "9dba4944",
   "metadata": {},
   "outputs": [],
   "source": [
    "# Predict.\n",
    "y_predicted_train = regression.predict(X_train) # This is predicting X_train!"
   ]
  },
  {
   "cell_type": "code",
   "execution_count": 43,
   "id": "5484f7ae",
   "metadata": {},
   "outputs": [],
   "source": [
    "rmse = mean_squared_error(y_train, y_predicted_train)\n",
    "r2 = r2_score(y_train, y_predicted_train)"
   ]
  },
  {
   "cell_type": "code",
   "execution_count": 44,
   "id": "567d2424",
   "metadata": {},
   "outputs": [
    {
     "name": "stdout",
     "output_type": "stream",
     "text": [
      "Slope: [[1.25238724]]\n",
      "Mean squared error:  3862.7781545299395\n",
      "R2 score:  0.8635512537983934\n"
     ]
    }
   ],
   "source": [
    "print('Slope:' ,regression.coef_)\n",
    "print('Mean squared error: ', rmse)\n",
    "print('R2 score: ', r2)"
   ]
  },
  {
   "cell_type": "code",
   "execution_count": 45,
   "id": "1bc4aee6",
   "metadata": {},
   "outputs": [
    {
     "data": {
      "image/png": "[encoded data removed]",
      "text/plain": [
       "<Figure size 640x480 with 1 Axes>"
      ]
     },
     "metadata": {},
     "output_type": "display_data"
    }
   ],
   "source": [
    "# Create a plot that shows the regression line from the model on the test set.\n",
    "plot_test = plt.figure()\n",
    "plt.scatter(X_test, y_test, color='teal', s = 15)\n",
    "plt.plot(X_test, y_predicted, color='pink', linewidth =3)\n",
    "plt.title('Pneumonia Deaths vs. COVID-19 Deaths (Test set)')\n",
    "plt.xlabel('Pneumonia Deaths')\n",
    "plt.ylabel('COVID-19 Deaths')\n",
    "folder_path = '/Users/kirstinhelgeson/Desktop/Data Analytics Course/07-2023 Achievement 6 Project/04 Analysis/Visualizations'\n",
    "output_file_path = os.path.join(folder_path, 'linear_regression.png')\n",
    "plt.savefig(output_file_path)\n",
    "plt.show()\n",
    "# Visualizing the training set results.\n",
    "plot_test = plt\n",
    "plot_test.scatter(X_train, y_train, color='teal', s = 15)\n",
    "plot_test.plot(X_train, y_predicted_train, color='pink', linewidth =3)\n",
    "plot_test.title('Pneumonia Deaths vs. COVID-19 Deaths (Train set)')\n",
    "plot_test.xlabel('Pneumonia Deaths')\n",
    "plot_test.ylabel('COVID-19 Deaths')\n",
    "plot_test.show()"
   ]
  },
  {
   "cell_type": "markdown",
   "id": "2dce60ef",
   "metadata": {},
   "source": [
    "## The mean squared error (MSE) is quite large for both the test and training sets. This means that the regression line does not pass fairly close to the observations, making it not the best fit. The r-squared value however is close to 1, which indicates a good fit. Overall, the predictions aren't accurate but still serve as decent estimates."
   ]
  },
  {
   "cell_type": "code",
   "execution_count": null,
   "id": "58bd9a01",
   "metadata": {},
   "outputs": [],
   "source": []
  }
 ],
 "metadata": {
  "kernelspec": {
   "display_name": "Python 3 (ipykernel)",
   "language": "python",
   "name": "python3"
  },
  "language_info": {
   "codemirror_mode": {
    "name": "ipython",
    "version": 3
   },
   "file_extension": ".py",
   "mimetype": "text/x-python",
   "name": "python",
   "nbconvert_exporter": "python",
   "pygments_lexer": "ipython3",
   "version": "3.10.9"
  }
 },
 "nbformat": 4,
 "nbformat_minor": 5
}
