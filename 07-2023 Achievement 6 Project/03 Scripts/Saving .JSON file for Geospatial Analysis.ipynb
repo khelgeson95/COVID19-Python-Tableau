{
 "cells": [
  {
   "cell_type": "code",
   "execution_count": 12,
   "id": "f27b5d9b",
   "metadata": {},
   "outputs": [],
   "source": [
    "import urllib.request\n",
    "import os"
   ]
  },
  {
   "cell_type": "code",
   "execution_count": 13,
   "id": "6209a17b",
   "metadata": {},
   "outputs": [],
   "source": [
    "url = \"https://coach-courses-us.s3.amazonaws.com/public/courses/data-immersion/A6/6.3/us-states.json\""
   ]
  },
  {
   "cell_type": "code",
   "execution_count": 14,
   "id": "2e2355c6",
   "metadata": {},
   "outputs": [],
   "source": [
    "directory_path = \"/Users/kirstinhelgeson/Desktop/Data Analytics Course/A6\""
   ]
  },
  {
   "cell_type": "code",
   "execution_count": 15,
   "id": "6abef789",
   "metadata": {},
   "outputs": [],
   "source": [
    "os.makedirs(directory_path, exist_ok=True)"
   ]
  },
  {
   "cell_type": "code",
   "execution_count": 16,
   "id": "72ca4938",
   "metadata": {},
   "outputs": [],
   "source": [
    "file_name = os.path.basename(url)"
   ]
  },
  {
   "cell_type": "code",
   "execution_count": 17,
   "id": "eed1a2b3",
   "metadata": {},
   "outputs": [],
   "source": [
    "file_path = os.path.join(directory_path, file_name)"
   ]
  },
  {
   "cell_type": "code",
   "execution_count": 18,
   "id": "101fb180",
   "metadata": {},
   "outputs": [
    {
     "data": {
      "text/plain": [
       "('/Users/kirstinhelgeson/Desktop/Data Analytics Course/A6/us-states.json',\n",
       " <http.client.HTTPMessage at 0x1272db700>)"
      ]
     },
     "execution_count": 18,
     "metadata": {},
     "output_type": "execute_result"
    }
   ],
   "source": [
    "urllib.request.urlretrieve(url, file_path)"
   ]
  },
  {
   "cell_type": "code",
   "execution_count": 19,
   "id": "e544b215",
   "metadata": {},
   "outputs": [
    {
     "name": "stdout",
     "output_type": "stream",
     "text": [
      "File downloaded and saved at: /Users/kirstinhelgeson/Desktop/Data Analytics Course/A6/us-states.json\n"
     ]
    }
   ],
   "source": [
    "print(\"File downloaded and saved at:\", os.path.abspath(file_path))"
   ]
  },
  {
   "cell_type": "code",
   "execution_count": null,
   "id": "1a470c03",
   "metadata": {},
   "outputs": [],
   "source": []
  }
 ],
 "metadata": {
  "kernelspec": {
   "display_name": "Python 3 (ipykernel)",
   "language": "python",
   "name": "python3"
  },
  "language_info": {
   "codemirror_mode": {
    "name": "ipython",
    "version": 3
   },
   "file_extension": ".py",
   "mimetype": "text/x-python",
   "name": "python",
   "nbconvert_exporter": "python",
   "pygments_lexer": "ipython3",
   "version": "3.10.9"
  }
 },
 "nbformat": 4,
 "nbformat_minor": 5
}
